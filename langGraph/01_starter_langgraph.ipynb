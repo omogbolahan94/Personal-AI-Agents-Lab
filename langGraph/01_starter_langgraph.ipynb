{
 "cells": [
  {
   "cell_type": "markdown",
   "id": "d011ac43-dea3-492a-ac9f-c69cbad9c411",
   "metadata": {},
   "source": [
    "### Important Keyword\n",
    "\n",
    "- Graph: the flow of the connection of nodes. In other words, it's the agent workflow.\n",
    "- State: The current snapshot of the application. It's a shared memory for passing data.\n",
    "- Nodes: tasks or action in form of function\n",
    "- Edges: connections defining flow (specifying the node/function call)\n",
    "- Executor: runs the graph and coordinates everything."
   ]
  },
  {
   "cell_type": "code",
   "execution_count": 1,
   "id": "fdbc581d-97a0-4595-93af-cc9c2f4c6c2d",
   "metadata": {},
   "outputs": [],
   "source": [
    "from typing import Annotated\n",
    "from langgraph.graph import StateGraph, START, END\n",
    "from langgraph.graph.message import add_messages\n",
    "from dotenv import load_dotenv\n",
    "from IPython.display import Image, display\n",
    "import gradio as gr\n",
    "from langgraph.graph import StateGraph\n",
    "from langgraph.graph.message import add_messages\n",
    "from langchain_openai import ChatOpenAI\n",
    "from pydantic import BaseModel\n",
    "import random"
   ]
  },
  {
   "cell_type": "code",
   "execution_count": 3,
   "id": "74f2c2ab-a10b-43ea-8c1b-7e0f3d88f2ef",
   "metadata": {},
   "outputs": [
    {
     "data": {
      "text/plain": [
       "True"
      ]
     },
     "execution_count": 3,
     "metadata": {},
     "output_type": "execute_result"
    }
   ],
   "source": [
    "load_dotenv(override=True)"
   ]
  },
  {
   "cell_type": "markdown",
   "id": "a25af9b6-8c52-4ea3-a33c-b47896365041",
   "metadata": {},
   "source": [
    "### Building a Graph Without Using LLM"
   ]
  },
  {
   "cell_type": "code",
   "execution_count": 12,
   "id": "00cccc1c-5fcd-4a3a-8ff0-9f6f47be6d6e",
   "metadata": {},
   "outputs": [],
   "source": [
    "# source of AI response\n",
    "nouns = [\"Cabbages\", \"Unicorns\", \"Toasters\", \"Penguins\", \"Bananas\", \"Zombies\", \"Rainbows\", \"Eels\", \"Pickles\", \"Muffins\"]\n",
    "adjectives = [\"outrageous\", \"smelly\", \"pedantic\", \"existential\", \"moody\", \"sparkly\", \"untrustworthy\", \"sarcastic\", \"squishy\", \"haunted\"]"
   ]
  },
  {
   "cell_type": "code",
   "execution_count": 13,
   "id": "5a507cba-e420-4396-9d88-ba28caa9f450",
   "metadata": {},
   "outputs": [],
   "source": [
    "# define a state object\n",
    "class State(BaseModel):\n",
    "    messages: Annotated[list, add_messages]"
   ]
  },
  {
   "cell_type": "code",
   "execution_count": 14,
   "id": "1c4ce9b2-59a0-4611-bff1-e7f88008f8cd",
   "metadata": {},
   "outputs": [],
   "source": [
    "# start the Graph Builder with this State class\n",
    "graph_builder = StateGraph(State)"
   ]
  },
  {
   "cell_type": "code",
   "execution_count": 15,
   "id": "1b708aa8-9a8d-456d-9542-10e2ac4a0647",
   "metadata": {},
   "outputs": [
    {
     "data": {
      "text/plain": [
       "<langgraph.graph.state.StateGraph at 0x1f4c25447d0>"
      ]
     },
     "execution_count": 15,
     "metadata": {},
     "output_type": "execute_result"
    }
   ],
   "source": [
    "# create a node\n",
    "def our_first_node(old_state: State) -> State:\n",
    "\n",
    "    reply = f\"{random.choice(nouns)} are {random.choice(adjectives)}\"\n",
    "    messages = [{\"role\": \"assistant\", \"content\": reply}]\n",
    "\n",
    "    new_state = State(messages=messages)\n",
    "\n",
    "    return new_state\n",
    "\n",
    "# connect the node to the graph\n",
    "graph_builder.add_node(\"first_node\", our_first_node)"
   ]
  },
  {
   "cell_type": "code",
   "execution_count": 16,
   "id": "73f68e2d-a5fa-4fb3-92a4-4873ae90d546",
   "metadata": {},
   "outputs": [
    {
     "data": {
      "text/plain": [
       "<langgraph.graph.state.StateGraph at 0x1f4c25447d0>"
      ]
     },
     "execution_count": 16,
     "metadata": {},
     "output_type": "execute_result"
    }
   ],
   "source": [
    "# the edges\n",
    "graph_builder.add_edge(START, \"first_node\")\n",
    "graph_builder.add_edge(\"first_node\", END)"
   ]
  },
  {
   "cell_type": "code",
   "execution_count": 17,
   "id": "80fec894-8db9-4b59-a5fb-13f9ab1c464f",
   "metadata": {},
   "outputs": [
    {
     "data": {
      "image/png": "[encoded data removed]",
      "text/plain": [
       "<IPython.core.display.Image object>"
      ]
     },
     "metadata": {},
     "output_type": "display_data"
    },
    {
     "name": "stdout",
     "output_type": "stream",
     "text": [
      "{'messages': [HumanMessage(content='alright', additional_kwargs={}, response_metadata={}, id='6e237070-6d71-4a6f-92df-2c477b7774fa'), AIMessage(content='Pickles are pedantic', additional_kwargs={}, response_metadata={}, id='3bf0c2dc-077b-4895-993e-d74fddbb3f2a')]}\n",
      "{'messages': [HumanMessage(content='gogh', additional_kwargs={}, response_metadata={}, id='a1899bda-0a03-43ed-a6bc-ce481866dbdd'), AIMessage(content='Zombies are squishy', additional_kwargs={}, response_metadata={}, id='641733aa-47e2-412c-a466-6eba33bb3105')]}\n"
     ]
    }
   ],
   "source": [
    "# combine the graph\n",
    "graph = graph_builder.compile()\n",
    "display(Image(graph.get_graph().draw_mermaid_png()))"
   ]
  },
  {
   "cell_type": "markdown",
   "id": "c8cd5e86-19d7-4284-8ccf-3c0a9efef65d",
   "metadata": {},
   "source": [
    "Create a chat gradio application for the graph:"
   ]
  },
  {
   "cell_type": "code",
   "execution_count": 10,
   "id": "519e82c7-2584-4d21-8d6a-c373bde26301",
   "metadata": {},
   "outputs": [],
   "source": [
    "def chat(user_input: str, history):\n",
    "    message = {\"role\": \"user\", \"content\": user_input}\n",
    "    messages = [message]\n",
    "    state = State(messages=messages)\n",
    "    result = graph.invoke(state)\n",
    "    print(result)\n",
    "    return result[\"messages\"][-1].content  # AI response displayed in gradio chat"
   ]
  },
  {
   "cell_type": "code",
   "execution_count": 11,
   "id": "e289e5fe-d6b9-43c1-a367-2bf4f93ade6c",
   "metadata": {},
   "outputs": [
    {
     "name": "stdout",
     "output_type": "stream",
     "text": [
      "* Running on local URL:  http://127.0.0.1:7860\n",
      "* To create a public link, set `share=True` in `launch()`.\n"
     ]
    },
    {
     "data": {
      "text/html": [
       "<div><iframe src=\"http://127.0.0.1:7860/\" width=\"100%\" height=\"500\" allow=\"autoplay; camera; microphone; clipboard-read; clipboard-write;\" frameborder=\"0\" allowfullscreen></iframe></div>"
      ],
      "text/plain": [
       "<IPython.core.display.HTML object>"
      ]
     },
     "metadata": {},
     "output_type": "display_data"
    },
    {
     "data": {
      "text/plain": []
     },
     "execution_count": 11,
     "metadata": {},
     "output_type": "execute_result"
    },
    {
     "name": "stdout",
     "output_type": "stream",
     "text": [
      "{'messages': [HumanMessage(content='Hi there ', additional_kwargs={}, response_metadata={}, id='95bf8e80-0ce4-4601-bcae-d7e142931a4d'), AIMessage(content='Rainbows are moody', additional_kwargs={}, response_metadata={}, id='e101a4b6-3429-4fa9-9556-5006ba712576')]}\n",
      "{'messages': [HumanMessage(content='Alright. I get you', additional_kwargs={}, response_metadata={}, id='973bcda5-3989-40e1-be30-0405e1e41a1a'), AIMessage(content='Toasters are squishy', additional_kwargs={}, response_metadata={}, id='6f06823c-a7d7-4684-a93e-af8b59822f73')]}\n"
     ]
    }
   ],
   "source": [
    "gr.ChatInterface(chat, type=\"messages\").launch()"
   ]
  },
  {
   "cell_type": "markdown",
   "id": "a14f0e7b-afd6-4453-9364-c15c86254ebc",
   "metadata": {},
   "source": [
    "It is important to note that this is a simple example that used random words from list of words as the AI response. We can use an LLM instead."
   ]
  },
  {
   "cell_type": "code",
   "execution_count": 18,
   "id": "27e8e0ae-22c5-41df-a1e8-3a38b9a7b60c",
   "metadata": {},
   "outputs": [],
   "source": [
    "class State(BaseModel):\n",
    "    messages: Annotated[list, add_messages]\n",
    "\n",
    "graph_builder = StateGraph(State)\n",
    "\n",
    "llm = ChatOpenAI(model=\"gpt-4o-mini\")\n",
    "\n",
    "def chatbot_node(old_state: State) -> State:\n",
    "    response = llm.invoke(old_state.messages)\n",
    "    new_state = State(messages=[response])\n",
    "    return new_state\n",
    "\n",
    "graph_builder.add_node(\"chatbot\", chatbot_node)\n",
    "\n",
    "graph_builder.add_edge(START, \"chatbot\")\n",
    "graph_builder.add_edge(\"chatbot\", END)\n",
    "\n",
    "graph = graph_builder.compile()\n"
   ]
  },
  {
   "cell_type": "code",
   "execution_count": 19,
   "id": "9d11023e-909a-492c-ba59-7d7732fd32b2",
   "metadata": {},
   "outputs": [
    {
     "name": "stdout",
     "output_type": "stream",
     "text": [
      "* Running on local URL:  http://127.0.0.1:7861\n",
      "* To create a public link, set `share=True` in `launch()`.\n"
     ]
    },
    {
     "data": {
      "text/html": [
       "<div><iframe src=\"http://127.0.0.1:7861/\" width=\"100%\" height=\"500\" allow=\"autoplay; camera; microphone; clipboard-read; clipboard-write;\" frameborder=\"0\" allowfullscreen></iframe></div>"
      ],
      "text/plain": [
       "<IPython.core.display.HTML object>"
      ]
     },
     "metadata": {},
     "output_type": "display_data"
    },
    {
     "data": {
      "text/plain": []
     },
     "execution_count": 19,
     "metadata": {},
     "output_type": "execute_result"
    },
    {
     "name": "stdout",
     "output_type": "stream",
     "text": [
      "{'messages': [HumanMessage(content='Hi ', additional_kwargs={}, response_metadata={}, id='3c812d14-86b6-4723-90b4-c272f4f2d1ad'), AIMessage(content='Hello! How can I assist you today?', additional_kwargs={'refusal': None}, response_metadata={'token_usage': {'completion_tokens': 9, 'prompt_tokens': 9, 'total_tokens': 18, 'completion_tokens_details': {'accepted_prediction_tokens': 0, 'audio_tokens': 0, 'reasoning_tokens': 0, 'rejected_prediction_tokens': 0}, 'prompt_tokens_details': {'audio_tokens': 0, 'cached_tokens': 0}}, 'model_name': 'gpt-4o-mini-2024-07-18', 'system_fingerprint': 'fp_34a54ae93c', 'id': 'chatcmpl-C4nDaRXQBlkGiG99hVuUVoZucLNi2', 'service_tier': 'default', 'finish_reason': 'stop', 'logprobs': None}, id='run--acdba6b6-8c82-4fc6-a79c-362ee18b9e33-0', usage_metadata={'input_tokens': 9, 'output_tokens': 9, 'total_tokens': 18, 'input_token_details': {'audio': 0, 'cache_read': 0}, 'output_token_details': {'audio': 0, 'reasoning': 0}})]}\n"
     ]
    }
   ],
   "source": [
    "def chat(user_input: str, history):\n",
    "    initial_state = State(messages=[{\"role\": \"user\", \"content\": user_input}])\n",
    "    result = graph.invoke(initial_state) # super step: run the graph from start to end using user input to invoke it\n",
    "    print(result)\n",
    "    return result['messages'][-1].content\n",
    "\n",
    "gr.ChatInterface(chat, type=\"messages\").launch()"
   ]
  },
  {
   "cell_type": "code",
   "execution_count": null,
   "id": "09a3ef89-2564-4e9e-b61a-b29444cfc722",
   "metadata": {},
   "outputs": [],
   "source": []
  }
 ],
 "metadata": {
  "kernelspec": {
   "display_name": "Python (myenv)",
   "language": "python",
   "name": "myenv"
  },
  "language_info": {
   "codemirror_mode": {
    "name": "ipython",
    "version": 3
   },
   "file_extension": ".py",
   "mimetype": "text/x-python",
   "name": "python",
   "nbconvert_exporter": "python",
   "pygments_lexer": "ipython3",
   "version": "3.12.4"
  }
 },
 "nbformat": 4,
 "nbformat_minor": 5
}
